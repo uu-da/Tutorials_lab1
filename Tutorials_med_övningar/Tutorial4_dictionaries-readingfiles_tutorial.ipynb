{
 "cells": [
  {
   "cell_type": "markdown",
   "metadata": {},
   "source": [
    "# Tutorial 4: Introduction to dictionaries and reading files\n",
    "\n",
    "## Sources\n",
    "\n",
    "All tutorials in this folder are adapted from Software Carpentry - Programming with Python (v5), licensed under [CC Zero public domain waiver](https://creativecommons.org/publicdomain/zero/1.0/)  Some instructions have been removed and other added in order to make it fit with the course Data Analytics given at Uppsala university, campus Gotland.\n"
   ]
  },
  {
   "cell_type": "markdown",
   "metadata": {},
   "source": [
    "Dictionaries are data structures consisting of an unordered collection of *key-value pairs*. Some languages refer to dictionaries as *associative arrays*. The basic idea is that you can reference items by their key value as opposed to an index location (as you'd do in a numpy ndarray or a list). They are like \"lookup tables\" in some sense. "
   ]
  },
  {
   "cell_type": "code",
   "execution_count": null,
   "metadata": {},
   "outputs": [],
   "source": [
    "# Create a dictionary with three items in it. Note\n",
    "# the curly braces used when **constructing** a dictionary.\n",
    "\n",
    "params = {\"parameter1\" : 1.0,\n",
    "          \"parameter2\" : 2.0,\n",
    "          \"parameter3\" : 3.0}\n",
    "\n",
    "print(type(params))\n",
    "print(params)"
   ]
  },
  {
   "cell_type": "markdown",
   "metadata": {},
   "source": [
    "To reference a specific value, just use its key. Notice the square brackets when **referencing** dictionary elements."
   ]
  },
  {
   "cell_type": "code",
   "execution_count": null,
   "metadata": {},
   "outputs": [],
   "source": [
    "params[\"parameter2\"]"
   ]
  },
  {
   "cell_type": "markdown",
   "metadata": {},
   "source": [
    "Modifying existing dictionary elements is easy."
   ]
  },
  {
   "cell_type": "code",
   "execution_count": null,
   "metadata": {},
   "outputs": [],
   "source": [
    "# Look, we can even change data types on the fly and mix different data\n",
    "# types together in the same dictionary. That's what dictionaries are great for.\n",
    "\n",
    "params[\"parameter1\"] = \"A\"\n",
    "params[\"parameter2\"] = \"B\"\n",
    "\n",
    "# add a new entry\n",
    "params[\"parameter4\"] = \"D\"\n",
    "\n",
    "print(params)"
   ]
  },
  {
   "cell_type": "markdown",
   "metadata": {},
   "source": [
    "Dictionaries have numerous properties and methods. Let's explore a few."
   ]
  },
  {
   "cell_type": "code",
   "execution_count": null,
   "metadata": {},
   "outputs": [],
   "source": [
    "# Does a certain key exist\n",
    "\n",
    "print(\"parameter1\" in params.keys())\n",
    "\n",
    "\"parameter5\" in params.keys()"
   ]
  },
  {
   "cell_type": "code",
   "execution_count": null,
   "metadata": {},
   "outputs": [],
   "source": [
    "# iterate over the keys\n",
    "for k in params.keys():\n",
    "    print (k)"
   ]
  },
  {
   "cell_type": "markdown",
   "metadata": {},
   "source": [
    "**IMPORTANT:** Keys are **not** guaranteed to be sorted in any way."
   ]
  },
  {
   "cell_type": "markdown",
   "metadata": {},
   "source": [
    "What if we want to list out the key, value pairs for a dictionary. The `dict.items()` method does this. Technically it returns something known as a *view*. However, it's iterable and behaves like a list of tuples. Let's see this."
   ]
  },
  {
   "cell_type": "code",
   "execution_count": null,
   "metadata": {},
   "outputs": [],
   "source": [
    "print(params.items())\n",
    "\n",
    "for item in params.items():\n",
    "    print(item)"
   ]
  },
  {
   "cell_type": "markdown",
   "metadata": {},
   "source": [
    "We'll see later that one use of dictionaries is that they can be passed (in a special way) to a function in which the key-value pairs are named function arguments and their respective values. We'll use this in web scraping too when we need to pass parameters along with a URL."
   ]
  },
  {
   "cell_type": "markdown",
   "metadata": {},
   "source": [
    "More on dictionaries\n",
    "---------------------\n",
    "\n",
    "In one of the examples we'll explore, we are going to use dictionaries to hold the values of counts of website hits per month based on an apache log file. The records look like:\n",
    "\n",
    "    local - - [24/Oct/1994:13:41:41 -0600] \"GET index.html HTTP/1.0\" 200 150\n",
    "    local - - [24/Oct/1994:13:41:41 -0600] \"GET 1.gif HTTP/1.0\" 200 1210\n",
    "    local - - [24/Oct/1994:13:43:13 -0600] \"GET index.html HTTP/1.0\" 200 3185\n",
    "    local - - [24/Oct/1994:13:43:14 -0600] \"GET 2.gif HTTP/1.0\" 200 2555\n",
    "    local - - [24/Oct/1994:13:43:15 -0600] \"GET 3.gif HTTP/1.0\" 200 36403\n",
    "    local - - [24/Oct/1994:13:43:17 -0600] \"GET 4.gif HTTP/1.0\" 200 441\n",
    "    \n",
    "Each month is represented by a three character abbreviation. Let's say that our basic strategy is to:\n",
    "\n",
    "* create an empty dictionary called `monthly_counts`\n",
    "* read a line, get the month into a variable. For example, month = 'Oct'\n",
    "* Increment the counts for that month via `monthly_counts[month] = monthly_counts[month] + 1"
   ]
  },
  {
   "cell_type": "code",
   "execution_count": null,
   "metadata": {},
   "outputs": [],
   "source": [
    "# Create an empty dictionary\n",
    "monthly_counts = {}"
   ]
  },
  {
   "cell_type": "markdown",
   "metadata": {},
   "source": [
    "Now, let's assume that the variable `month` has the value 'Oct'. What happens if we try to increment the dictionary value for that key?"
   ]
  },
  {
   "cell_type": "code",
   "execution_count": null,
   "metadata": {},
   "outputs": [],
   "source": [
    "month = 'Oct'\n",
    "monthly_counts[month] = monthly_counts[month] + 1"
   ]
  },
  {
   "cell_type": "markdown",
   "metadata": {},
   "source": [
    "Ah, so if we haven't added a key yet, we can't assume it starts out with a value of 0 (or anything else, for that matter). Of course, we could simply add a bunch of initialization lines such as `monthly_counts['Jan'] = 0`, `monthly_counts['Feb'] = 0`, and so on. However, there's another way of accessing a dictionary value using its `get` method. The beauty of the `get` method is that it has an optional second parameter in which you can specify the return value if the key doesn't exist.\n",
    "\n"
   ]
  },
  {
   "cell_type": "code",
   "execution_count": null,
   "metadata": {},
   "outputs": [],
   "source": [
    "print (monthly_counts.get('Oct',0))"
   ]
  },
  {
   "cell_type": "code",
   "execution_count": null,
   "metadata": {},
   "outputs": [],
   "source": [
    "month = 'Oct'\n",
    "monthly_counts[month] = monthly_counts.get(month,0) + 1\n",
    "print (monthly_counts['Oct'])"
   ]
  },
  {
   "cell_type": "markdown",
   "metadata": {},
   "source": [
    "Reading Files\n",
    "-------------\n",
    "\n",
    "Soon we'll use the `csv` package for doing a similar thing. When we learn Pandas we'll see functions like `read_csv`. However, often you need to read a text file line by line and do some data scraping, parsing, manipulating, transforming, ..., whatever. Here are a few of the basic ideas."
   ]
  },
  {
   "cell_type": "markdown",
   "metadata": {},
   "source": [
    "### Example 1: open file, read a line, strip, print, repeat until no more lines, close file"
   ]
  },
  {
   "cell_type": "code",
   "execution_count": null,
   "metadata": {},
   "outputs": [],
   "source": [
    "# Store input filename in variable. Include necessary path info.\n",
    "in_filename= \"data/apache-mini.log\"\n",
    "\n",
    "# Open the input file for reading. InFile is a \"file object\" or \"file handle\".\n",
    "in_file = open(in_filename, 'r')\n",
    "\n",
    "# Init counter to keep track of line numbers (not necessary but sometimes useful)\n",
    "line_number = 0\n",
    "\n",
    "# Loop through each line in the file. Check out the nice looping syntax for traversing a file.\n",
    "for line in in_file:\n",
    "    # The variable line contains the current line as one big string and includes things like\n",
    "    # end of line characters. Also, to be clear, 'line' is a variable name we made up. We could have\n",
    "    # called it 'peanutbutter' had we chose to.\n",
    "    \n",
    "    # Let's strip off any end of line characters\n",
    "    # After running this cell, let's comment out this line to see what happens.\n",
    "    line = line.rstrip()\n",
    "    \n",
    "    # Increment the line counter\n",
    "    line_number += 1\n",
    "    \n",
    "    # Print the line and line number. What do you think the ':6' is for? Hint: There are < 1 million rows.\n",
    "    print( '{:6}: {}'.format(line_number, line) )\n",
    "    \n",
    "# After the loop is done, close the file\n",
    "in_file.close()"
   ]
  },
  {
   "cell_type": "code",
   "execution_count": null,
   "metadata": {},
   "outputs": [],
   "source": [
    "# What is in_file?\n",
    "\n",
    "type(in_file)"
   ]
  },
  {
   "cell_type": "markdown",
   "metadata": {},
   "source": [
    "### Example 2: an alternate way of opening and closing\n",
    "\n",
    "Now let's see a more \"Pythonic\" way of working with files"
   ]
  },
  {
   "cell_type": "code",
   "execution_count": null,
   "metadata": {},
   "outputs": [],
   "source": [
    "# Store input filename in variable. Include necessary path info.\n",
    "in_filename = \"data/apache-mini.log\"\n",
    "\n",
    "# Init counter to keep track of line numbers (not necessary but sometimes useful)\n",
    "line_number = 0\n",
    "\n",
    "# Open the input file for reading using a `with` block\n",
    "with open(in_filename, 'r') as in_file:\n",
    "    # Loop through each line in the file. Check out the nice looping syntax for traversing a file.\n",
    "    for line in in_file:\n",
    "        # The variable Line contains the current line as one big string and includes things like\n",
    "        # end of line characters. \n",
    "        \n",
    "        # Let's strip off any end of line characters\n",
    "        line = line.rstrip()\n",
    "        \n",
    "        # Increment the line counter\n",
    "        line_number += 1\n",
    "        \n",
    "        # Print the line and line number\n",
    "        print( '{:6}: {}'.format(line_number, line) )\n",
    "                \n",
    "# After the loop is done,  there is no need to close the file. It's already been\n",
    "# closed for you. :) To see that:\n",
    "\n",
    "if in_file.closed:\n",
    "    print(\"\\nFile already closed.\")\n",
    "else:\n",
    "    print(\"\\nFile NOT closed yet\")\n"
   ]
  },
  {
   "cell_type": "markdown",
   "metadata": {},
   "source": [
    "### Example 3: splitting lines into a list\n",
    "\n",
    "One common thing you might want to do when reading a formatted text file, is to split each line on some sort of special character such as a comma, tab, or space. Let's split the apache log on space - each line will become a list. We'll store each of these lists in a master list. Sometimes this can do exactly what you need in terms of getting lines ready for import into something like a Pandas DataFrame. \n",
    "\n",
    "We can always use more powerful tools like [regex](http://regexr.com/) to do this job. And of course, Python supports regex. We'll see this a little later."
   ]
  },
  {
   "cell_type": "code",
   "execution_count": null,
   "metadata": {},
   "outputs": [],
   "source": [
    "# Store input filename in variable. Include necessary path info.\n",
    "in_filename = \"data/apache-mini.log\"\n",
    "\n",
    "# Init counter to keep track of line numbers (not necessary but sometimes useful)\n",
    "line_number = 0\n",
    "\n",
    "# Create empty list\n",
    "loglines = []\n",
    "\n",
    "# Open the input file for reading\n",
    "with open(in_filename, 'r') as in_file:\n",
    "    # Loop through each line in the file. Check out the nice looping syntax for traversing a file.\n",
    "    for line in in_file:\n",
    "        \n",
    "        # Let's strip off any end of line characters\n",
    "        line = line.rstrip()\n",
    "        \n",
    "        # Before we split on the spaces, let's get rid of the brackets around the date\n",
    "        line = line.replace('[', '')\n",
    "        line = line.replace(']', '')\n",
    "        \n",
    "        # Now split the line using space as our delimiter\n",
    "        logline_list = line.split(' ')\n",
    "        \n",
    "        # Append the logline list to the master list\n",
    "        loglines.append(logline_list)\n",
    "        \n",
    "        # Increment the line counter\n",
    "        line_number += 1\n",
    "        \n",
    "# All done, print the list\n",
    "print(loglines)\n"
   ]
  },
  {
   "cell_type": "markdown",
   "metadata": {},
   "source": [
    "Well, not so pretty. Sometimes we need to \"pretty print\" - https://docs.python.org/3/library/pprint.html."
   ]
  },
  {
   "cell_type": "code",
   "execution_count": null,
   "metadata": {},
   "outputs": [],
   "source": [
    "from pprint import pprint"
   ]
  },
  {
   "cell_type": "code",
   "execution_count": null,
   "metadata": {},
   "outputs": [],
   "source": [
    "pprint(loglines)"
   ]
  },
  {
   "cell_type": "markdown",
   "metadata": {},
   "source": [
    "... or of course, we could iterate over the list and print a line at a time for finer control. "
   ]
  },
  {
   "cell_type": "code",
   "execution_count": null,
   "metadata": {},
   "outputs": [],
   "source": [
    "for logline in loglines:\n",
    "    print(logline)"
   ]
  }
 ],
 "metadata": {
  "anaconda-cloud": {},
  "kernelspec": {
   "display_name": "Python 3",
   "language": "python",
   "name": "python3"
  },
  "language_info": {
   "codemirror_mode": {
    "name": "ipython",
    "version": 3
   },
   "file_extension": ".py",
   "mimetype": "text/x-python",
   "name": "python",
   "nbconvert_exporter": "python",
   "pygments_lexer": "ipython3",
   "version": "3.7.4"
  }
 },
 "nbformat": 4,
 "nbformat_minor": 4
}
