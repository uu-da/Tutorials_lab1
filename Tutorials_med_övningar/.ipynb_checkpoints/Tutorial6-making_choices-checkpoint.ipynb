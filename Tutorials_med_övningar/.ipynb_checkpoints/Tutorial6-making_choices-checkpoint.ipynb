{
 "cells": [
  {
   "cell_type": "markdown",
   "metadata": {},
   "source": [
    "# Tutorials 6 - Making choices\n",
    "\n",
    "In the last tutorial, we discovered something suspicious was going on\n",
    "in our inflammation data by drawing some plots.\n",
    "How can we use Python to automatically recognize the different features we saw,\n",
    "and take a different action for each? In this lesson, we'll learn how to write code that\n",
    "runs only when certain conditions are true.\n",
    "\n",
    "## Conditionals\n",
    "\n",
    "We can ask Python to take different actions, depending on a condition, with an `if` statement:"
   ]
  },
  {
   "cell_type": "code",
   "execution_count": 1,
   "metadata": {},
   "outputs": [
    {
     "name": "stdout",
     "output_type": "stream",
     "text": [
      "not greater\n",
      "done\n"
     ]
    }
   ],
   "source": [
    "num = 37\n",
    "\n",
    "if num > 100:\n",
    "    print('greater')\n",
    "else:\n",
    "    print('not greater')\n",
    "    \n",
    "print('done')"
   ]
  },
  {
   "cell_type": "markdown",
   "metadata": {},
   "source": [
    "The second line of this code uses the keyword `if` to tell Python that we want to make a choice.\n",
    "If the test that follows the `if` statement is true,\n",
    "the body of the `if`\n",
    "(i.e., the lines indented underneath it) are executed.\n",
    "If the test is false,\n",
    "the body of the `else` is executed instead.\n",
    "Only one or the other is ever executed:\n",
    "\n",
    "![Executing a Conditional](fig/python-flowchart-conditional.svg)\\\n",
    "\n",
    "Conditional statements don't have to include an `else`.\n",
    "If there isn't one,\n",
    "Python simply does nothing if the test is false:"
   ]
  },
  {
   "cell_type": "code",
   "execution_count": 2,
   "metadata": {},
   "outputs": [
    {
     "name": "stdout",
     "output_type": "stream",
     "text": [
      "before conditional...\n",
      "...after conditional\n"
     ]
    }
   ],
   "source": [
    "num = 53\n",
    "print('before conditional...')\n",
    "if num > 100:\n",
    "    print('53 is greater than 100')\n",
    "print('...after conditional')"
   ]
  },
  {
   "cell_type": "markdown",
   "metadata": {},
   "source": [
    "We can also chain several tests together using `elif`,\n",
    "which is short for \"else if\".\n",
    "The following Python code uses `elif` to print the sign of a number."
   ]
  },
  {
   "cell_type": "code",
   "execution_count": 3,
   "metadata": {},
   "outputs": [
    {
     "name": "stdout",
     "output_type": "stream",
     "text": [
      "-3 is negative\n"
     ]
    }
   ],
   "source": [
    "num = -3\n",
    "\n",
    "if num > 0:\n",
    "    print(num, \"is positive\")\n",
    "elif num == 0:\n",
    "    print(num, \"is zero\")\n",
    "else:\n",
    "    print(num, \"is negative\")"
   ]
  },
  {
   "cell_type": "markdown",
   "metadata": {},
   "source": [
    "One important thing to notice in the code above is that we use a double equals sign `==` to test for equality\n",
    "rather than a single equals sign\n",
    "because the latter is used to mean assignment.\n",
    "\n",
    "We can also combine tests using `and` and `or`.\n",
    "`and` is only true if both parts are true:"
   ]
  },
  {
   "cell_type": "code",
   "execution_count": 4,
   "metadata": {},
   "outputs": [
    {
     "name": "stdout",
     "output_type": "stream",
     "text": [
      "at least one part is false\n"
     ]
    }
   ],
   "source": [
    "if (1 > 0) and (-1 > 0):\n",
    "    print('both parts are true')\n",
    "else:\n",
    "    print('at least one part is false')"
   ]
  },
  {
   "cell_type": "markdown",
   "metadata": {},
   "source": [
    "while `or` is true if at least one part is true:"
   ]
  },
  {
   "cell_type": "code",
   "execution_count": 5,
   "metadata": {},
   "outputs": [
    {
     "name": "stdout",
     "output_type": "stream",
     "text": [
      "at least one test is true\n"
     ]
    }
   ],
   "source": [
    "if (1 < 0) or (-1 < 0):\n",
    "    print('at least one test is true')"
   ]
  },
  {
   "cell_type": "markdown",
   "metadata": {},
   "source": [
    "## Checking our Data\n",
    "\n",
    "Now that we've seen how conditionals work,\n",
    "we can use them to check for the suspicious features we saw in our inflammation data.\n",
    "In the first couple of plots, the maximum inflammation per day\n",
    "seemed to rise like a straight line, one unit per day.\n",
    "We can check for this inside the `for` loop we wrote with the following conditional:\n",
    "\n",
    "for f in filenames:\n",
    "    data = np.loadtxt(fname=f, delimiter=',')\n",
    "\n",
    "    if data.max(axis=0)[0] == 0 and data.max(axis=0)[20] == 20:\n",
    "        print(f + ' Suspicious looking maxima!')"
   ]
  },
  {
   "cell_type": "code",
   "execution_count": 16,
   "metadata": {},
   "outputs": [
    {
     "name": "stdout",
     "output_type": "stream",
     "text": [
      "data/inflammation-01.csv Suspicious looking maxima!\n",
      "data/inflammation-02.csv Suspicious looking maxima!\n",
      "data/inflammation-03.csv Minima add up to zero!\n",
      "data/inflammation-04.csv Suspicious looking maxima!\n",
      "data/inflammation-05.csv Suspicious looking maxima!\n",
      "data/inflammation-06.csv Suspicious looking maxima!\n",
      "data/inflammation-07.csv Suspicious looking maxima!\n",
      "data/inflammation-08.csv Minima add up to zero!\n",
      "data/inflammation-09.csv Suspicious looking maxima!\n",
      "data/inflammation-10.csv Suspicious looking maxima!\n"
     ]
    }
   ],
   "source": [
    "\n",
    "for f in filenames:\n",
    "    data = np.loadtxt(fname=f, delimiter=',')\n",
    "\n",
    "    if data.max(axis=0)[0] == 0 and data.max(axis=0)[20] == 20:\n",
    "        print(f + ' Suspicious looking maxima!')\n",
    "    elif data.min(axis=0).sum() == 0:\n",
    "        print(f + ' Minima add up to zero!')\n",
    "    else:\n",
    "        print(f + ' Seems OK!')"
   ]
  },
  {
   "cell_type": "markdown",
   "metadata": {},
   "source": [
    "We also saw a different problem in the third dataset;\n",
    "the minima per day were all zero (looks like a healthy person snuck into our study).\n",
    "We can also check for this with an `elif` condition:"
   ]
  },
  {
   "cell_type": "code",
   "execution_count": 11,
   "metadata": {},
   "outputs": [
    {
     "ename": "SyntaxError",
     "evalue": "invalid syntax (<ipython-input-11-930a8982c6fa>, line 1)",
     "output_type": "error",
     "traceback": [
      "\u001b[0;36m  File \u001b[0;32m\"<ipython-input-11-930a8982c6fa>\"\u001b[0;36m, line \u001b[0;32m1\u001b[0m\n\u001b[0;31m    elif data.min(axis=0).sum() == 0:\u001b[0m\n\u001b[0m       ^\u001b[0m\n\u001b[0;31mSyntaxError\u001b[0m\u001b[0;31m:\u001b[0m invalid syntax\n"
     ]
    }
   ],
   "source": []
  },
  {
   "cell_type": "markdown",
   "metadata": {},
   "source": [
    "And if neither of these conditions are true, we can use `else` to give the all-clear:"
   ]
  },
  {
   "cell_type": "code",
   "execution_count": 8,
   "metadata": {},
   "outputs": [
    {
     "ename": "SyntaxError",
     "evalue": "invalid syntax (<ipython-input-8-aa2240f0c3be>, line 1)",
     "output_type": "error",
     "traceback": [
      "\u001b[0;36m  File \u001b[0;32m\"<ipython-input-8-aa2240f0c3be>\"\u001b[0;36m, line \u001b[0;32m1\u001b[0m\n\u001b[0;31m    else:\u001b[0m\n\u001b[0m       ^\u001b[0m\n\u001b[0;31mSyntaxError\u001b[0m\u001b[0;31m:\u001b[0m invalid syntax\n"
     ]
    }
   ],
   "source": []
  },
  {
   "cell_type": "markdown",
   "metadata": {},
   "source": [
    "Let's test that out:"
   ]
  },
  {
   "cell_type": "code",
   "execution_count": 17,
   "metadata": {},
   "outputs": [],
   "source": [
    "import numpy as np"
   ]
  },
  {
   "cell_type": "code",
   "execution_count": 18,
   "metadata": {},
   "outputs": [
    {
     "name": "stdout",
     "output_type": "stream",
     "text": [
      "Suspicious looking maxima!\n"
     ]
    }
   ],
   "source": [
    "# Read data file\n",
    "data = np.loadtxt(fname='data/inflammation-01.csv', delimiter=',')\n",
    "\n",
    "# Check for data strangeness\n",
    "if data.max(axis=0)[0] == 0 and data.max(axis=0)[20] == 20:\n",
    "    print('Suspicious looking maxima!')\n",
    "elif data.min(axis=0).sum() == 0:\n",
    "    print('Minima add up to zero!')\n",
    "else:\n",
    "    print('Seems OK!')"
   ]
  },
  {
   "cell_type": "code",
   "execution_count": 19,
   "metadata": {},
   "outputs": [
    {
     "name": "stdout",
     "output_type": "stream",
     "text": [
      "Minima add up to zero!\n"
     ]
    }
   ],
   "source": [
    "# Read data file\n",
    "data = np.loadtxt(fname='data/inflammation-03.csv', delimiter=',')\n",
    "\n",
    "# Check for data strangeness\n",
    "if data.max(axis=0)[0] == 0 and data.max(axis=0)[20] == 20:\n",
    "    print('Suspicious looking maxima!')\n",
    "elif data.min(axis=0).sum() == 0:\n",
    "    print('Minima add up to zero!')\n",
    "else:\n",
    "    print('Seems OK!')"
   ]
  },
  {
   "cell_type": "markdown",
   "metadata": {},
   "source": [
    "### Exploring code\n",
    "As you look at the examples above, you might find yourself wondering about certain\n",
    "parts of the code. For example, what is `data.max(axis=0)[0]`? Use your detective skills\n",
    "along with the Jupyter notebook to explore such things. For example:"
   ]
  },
  {
   "cell_type": "code",
   "execution_count": 11,
   "metadata": {},
   "outputs": [
    {
     "name": "stdout",
     "output_type": "stream",
     "text": [
      "[ 0.  0.  1.  3.  1.  5.  7.  7.  6. 12.  6. 14.  9.  6. 17. 17.  9. 20.\n",
      " 17. 16. 12. 17. 10. 19. 16.  8. 16.  8. 14.  6. 12. 11.  5.  7.  6.  3.\n",
      "  3.  1.  0.  0.]\n",
      "<class 'numpy.ndarray'>\n",
      "40\n"
     ]
    }
   ],
   "source": [
    "# What is data.max(axis=0)?\n",
    "d = data.max(axis=0)\n",
    "print(d)\n",
    "print(type(d))\n",
    "print(len(d))"
   ]
  },
  {
   "cell_type": "code",
   "execution_count": 11,
   "metadata": {},
   "outputs": [
    {
     "data": {
      "text/plain": [
       "0.0"
      ]
     },
     "execution_count": 11,
     "metadata": {},
     "output_type": "execute_result"
    }
   ],
   "source": [
    "d[0]"
   ]
  },
  {
   "cell_type": "markdown",
   "metadata": {},
   "source": [
    "In this way,\n",
    "we have asked Python to do something different depending on the condition of our data.\n",
    "Here we printed messages in all cases,\n",
    "but we could also imagine not using the `else` catch-all\n",
    "so that messages are only printed when something is wrong,\n",
    "freeing us from having to manually examine every plot for features we've seen before\n",
    "\n",
    "## Challenge: How many paths?\n",
    "\n",
    "Which of the following would be printed if you were to run this code? Why did you pick this answer?\n",
    "\n",
    "1.  A\n",
    "2.  B\n",
    "3.  C\n",
    "4.  B and C\n",
    "\n",
    "~~~\n",
    "if 4 > 5:\n",
    "    print('A')\n",
    "elif 4 == 5:\n",
    "    print('B')\n",
    "elif 4 < 5:\n",
    "    print('C')\n",
    "~~~\n",
    "\n",
    "## Challenge: What is truth?\n",
    "\n",
    "`True` and `False` are special words in Python called `booleans` which represent true\n",
    "and false statements. However, they aren't the only values in Python that are true and false.\n",
    "In fact, *any* value can be used in an `if` or `elif`.\n",
    "After reading and running the code below,\n",
    "explain what the rule is for which values are considered true and which are considered false.\n",
    "\n",
    "~~~\n",
    "if '':\n",
    "    print('empty string is true')\n",
    "if 'word':\n",
    "    print('word is true')\n",
    "if []:\n",
    "    print('empty list is true')\n",
    "if [1, 2, 3]:\n",
    "    print('non-empty list is true')\n",
    "if {\"a\": 1}:\n",
    "    print('non-empty dictionary is true')\n",
    "if {}:\n",
    "    print('empty dictionary is true')\n",
    "if 0:\n",
    "    print('zero is true')\n",
    "if 1:\n",
    "    print('one is true')\n",
    "if -1:\n",
    "    print('negative one is true')\n",
    "~~~\n",
    "\n",
    "## Challenge: Close enough\n",
    "\n",
    "Write some conditions that print `True` if the variable `a` is within 10% of the variable `b`\n",
    "and `False` otherwise. Do you get the same answer for all possible pairs of numbers?\n",
    "\n",
    "\n"
   ]
  },
  {
   "cell_type": "code",
   "execution_count": null,
   "metadata": {},
   "outputs": [],
   "source": []
  },
  {
   "cell_type": "code",
   "execution_count": null,
   "metadata": {
    "collapsed": true,
    "jupyter": {
     "outputs_hidden": true
    }
   },
   "outputs": [],
   "source": []
  }
 ],
 "metadata": {
  "anaconda-cloud": {},
  "kernelspec": {
   "display_name": "Python 3",
   "language": "python",
   "name": "python3"
  },
  "language_info": {
   "codemirror_mode": {
    "name": "ipython",
    "version": 3
   },
   "file_extension": ".py",
   "mimetype": "text/x-python",
   "name": "python",
   "nbconvert_exporter": "python",
   "pygments_lexer": "ipython3",
   "version": "3.7.4"
  }
 },
 "nbformat": 4,
 "nbformat_minor": 4
}
