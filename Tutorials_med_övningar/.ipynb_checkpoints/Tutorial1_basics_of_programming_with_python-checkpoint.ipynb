{
 "cells": [
  {
   "cell_type": "markdown",
   "metadata": {},
   "source": [
    "## Tutorial 1 Introduction to programming with Python\n",
    "\n",
    "The best way to learn how to program is to do something useful and relevant to you.\n",
    "So, this introduction to Python is built around a common data analysis task.\n",
    "\n",
    "## Sources\n",
    "\n",
    "All tutorials in this folder are adapted from Software Carpentry - Programming with Python (v5), licensed under [CC Zero public domain waiver](https://creativecommons.org/publicdomain/zero/1.0/)  Some instructions have been removed and other added in order to make it fit with the course Data Analytics given at Uppsala university, campus Gotland.\n",
    "\n"
   ]
  },
  {
   "cell_type": "markdown",
   "metadata": {},
   "source": [
    "## Analyzing Patient Data\n",
    "We are studying inflammation in patients who have been given a new treatment for arthritis,\n",
    "and need to analyze the first dozen data sets.\n",
    "The data sets are stored in comma-separated values (CSV) format:\n",
    "\n",
    "* each row holds information for a single patient,\n",
    "* and the columns represent successive days.\n",
    "\n"
   ]
  },
  {
   "cell_type": "markdown",
   "metadata": {},
   "source": [
    "We want to:\n",
    "\n",
    "*   load that data into memory,\n",
    "*   calculate the average inflammation per day across all patients (i.e. column averages), and\n",
    "*   plot the result.\n",
    "\n",
    "To do all that, we'll have to learn a little bit about Python programming. \n",
    "\n",
    "We start with variables. In the cell below a variable `weight_kg`has been assigned the value 55.\n",
    "\n"
   ]
  },
  {
   "cell_type": "code",
   "execution_count": null,
   "metadata": {},
   "outputs": [],
   "source": [
    "weight_kg = 55"
   ]
  },
  {
   "cell_type": "markdown",
   "metadata": {},
   "source": [
    "Once a variable has a value, we can print it to the screen:"
   ]
  },
  {
   "cell_type": "code",
   "execution_count": null,
   "metadata": {},
   "outputs": [],
   "source": [
    "print(weight_kg)"
   ]
  },
  {
   "cell_type": "markdown",
   "metadata": {},
   "source": [
    "and do arithmetic with it:"
   ]
  },
  {
   "cell_type": "code",
   "execution_count": null,
   "metadata": {},
   "outputs": [],
   "source": [
    "print('weight in pounds:', 2.2 * weight_kg)"
   ]
  },
  {
   "cell_type": "markdown",
   "metadata": {},
   "source": [
    "We can also change a variable's value by assigning it a new one:"
   ]
  },
  {
   "cell_type": "code",
   "execution_count": null,
   "metadata": {},
   "outputs": [],
   "source": [
    "weight_kg = 57.5\n",
    "print('weight in kilograms is now:', weight_kg)"
   ]
  },
  {
   "cell_type": "markdown",
   "metadata": {},
   "source": [
    "As the example above shows,\n",
    "we can print several things at once by separating them with commas.\n",
    "\n",
    "If we imagine the variable as a sticky note with a name written on it,\n",
    "assignment is like putting the sticky note on a particular value:\n",
    "\n",
    "<img src=\"img/python-sticky-note-variables-01.svg\" alt=\"Variables as Sticky Notes\" />\n",
    "\n",
    "This means that assigning a value to one variable does *not* change the values of other variables.\n",
    "For example,\n",
    "let's store the subject's weight in pounds in a variable:"
   ]
  },
  {
   "cell_type": "code",
   "execution_count": null,
   "metadata": {},
   "outputs": [],
   "source": [
    "weight_lb = 2.5 * weight_kg\n",
    "print('weight in kilograms:', weight_kg, 'and in pounds:', weight_lb)"
   ]
  },
  {
   "cell_type": "markdown",
   "metadata": {},
   "source": [
    "<img src=\"img/python-sticky-note-variables-02.svg\" alt=\"Creating Another Variable\" />\n",
    "\n",
    "and then change `weight_kg`:"
   ]
  },
  {
   "cell_type": "code",
   "execution_count": null,
   "metadata": {},
   "outputs": [],
   "source": [
    "weight_kg = 100.0\n",
    "print('weight in kilograms is now:', weight_kg, 'and weight in pounds is still:', weight_lb)"
   ]
  },
  {
   "cell_type": "markdown",
   "metadata": {},
   "source": [
    "<img src=\"img/python-sticky-note-variables-03.svg\" alt=\"Updating a Variable\" />"
   ]
  },
  {
   "cell_type": "markdown",
   "metadata": {},
   "source": [
    "Since `weight_lb` doesn't \"remember\" where its value came from,\n",
    "it isn't automatically updated when `weight_kg` changes.\n",
    "This is different from the way spreadsheets work.\n"
   ]
  },
  {
   "cell_type": "markdown",
   "metadata": {},
   "source": [
    "In several of the `print()` statements above, we printed a combination of variables and *string literals* - the things with quotes around them. Of course, we can also have string variables. For example:"
   ]
  },
  {
   "cell_type": "code",
   "execution_count": null,
   "metadata": {},
   "outputs": [],
   "source": [
    "weight_kg = 57.5\n",
    "message = 'weight in kilograms is now:'\n",
    "print(message, weight_kg)"
   ]
  },
  {
   "cell_type": "code",
   "execution_count": null,
   "metadata": {},
   "outputs": [],
   "source": [
    "weight_kg = 55"
   ]
  },
  {
   "cell_type": "markdown",
   "metadata": {},
   "source": [
    "You can use the `whos` command at any time to see what variables you have created and what modules you have loaded into the computers memory. As this is an IPython command, it will only work if you are in an IPython terminal or the Jupyter Notebook. "
   ]
  },
  {
   "cell_type": "code",
   "execution_count": null,
   "metadata": {},
   "outputs": [],
   "source": [
    "whos"
   ]
  },
  {
   "cell_type": "markdown",
   "metadata": {},
   "source": [
    "> ## About data types\n",
    "> For those of you who've programmed in languages like Visual Basic (or VBA) or Java,\n",
    "> you might have noticed that we don't declare the data types for our variables. We\n",
    "> simply use them as we wish. Python is a *dynamically-typed* language. We'll revisit this topic often."
   ]
  },
  {
   "cell_type": "code",
   "execution_count": null,
   "metadata": {},
   "outputs": [],
   "source": [
    "type(message)"
   ]
  },
  {
   "cell_type": "code",
   "execution_count": null,
   "metadata": {},
   "outputs": [],
   "source": [
    "message = 100"
   ]
  },
  {
   "cell_type": "code",
   "execution_count": null,
   "metadata": {},
   "outputs": [],
   "source": [
    "type(message)"
   ]
  },
  {
   "cell_type": "markdown",
   "metadata": {},
   "source": [
    "## Reading one csv file into an array"
   ]
  },
  {
   "cell_type": "markdown",
   "metadata": {},
   "source": [
    "While a lot of powerful tools are built into languages like Python,\n",
    "even more live in the libraries they are used to build.\n",
    "\n",
    "In order to load our inflammation data, we will import a library called [NumPy](http://www.numpy.org/)\n",
    "that knows how to work with arrays. NumPy is one of the foundational packages\n",
    "for doing data science work in Python. Many other useful Python data analysis packages \n",
    "use NumPy under the hood. For example, **pandas** is a widely used data analysis package\n",
    "that we'll be using in this class and it relies heavily on NumPy. This tutorial will,\n",
    "in addition to teaching the basics of Python programming, will give you a glimpse into\n",
    "this important Python library for analytical computing. Chapter 2 of PDSH by JVP has\n",
    "a very thorough introduction to NumPy.\n",
    "\n",
    "\n",
    "> Arrays are no big deal. A 2-D array is a lot like a sheet in an Excel workbook.\n",
    "> Arrays are fundamental to computational data science work.\n",
    "\n"
   ]
  },
  {
   "cell_type": "code",
   "execution_count": null,
   "metadata": {},
   "outputs": [],
   "source": [
    "import numpy"
   ]
  },
  {
   "cell_type": "markdown",
   "metadata": {},
   "source": [
    "Importing a library is like getting a tool out of a storage locker\n",
    "and putting it on your workbench. Libraries provide additional functionality to the basic Python package, much like a new piece of equipment adds functionality to a lab space.\n",
    "Once you've loaded the library,\n",
    "we can ask the library to read our data file for us:"
   ]
  },
  {
   "cell_type": "code",
   "execution_count": null,
   "metadata": {},
   "outputs": [],
   "source": [
    "numpy.loadtxt(fname='data/inflammation-01.csv', delimiter=',')"
   ]
  },
  {
   "cell_type": "markdown",
   "metadata": {},
   "source": [
    "The expression `numpy.loadtxt(...)` is a [function call](reference.html#function-call)\n",
    "that asks Python to run the function `loadtxt` that belongs to the `numpy` library.\n",
    "This [dotted notation](reference.html#dotted-notation) is used everywhere in Python\n",
    "to refer to the parts of things as `thing.component`.\n",
    "\n",
    "`numpy.loadtxt` has two [parameters](reference.html#parameter):\n",
    "the name of the file we want to read,\n",
    "and the [delimiter](reference.html#delimiter) that separates values on a line.\n",
    "These both need to be character strings (or [strings](reference.html#string) for short),\n",
    "so we put them in quotes.\n",
    "\n",
    "When we are finished typing and press Shift+Enter,\n",
    "the notebook runs our command.\n",
    "Since we haven't told it to do anything else with the function's output,\n",
    "the notebook displays it.\n",
    "In this case,\n",
    "that output is the data we just loaded.\n",
    "By default,\n",
    "only a few rows and columns are shown\n",
    "(with `...` to omit elements when displaying big arrays).\n",
    "To save space,\n",
    "Python displays numbers as `1.` instead of `1.0`\n",
    "when there's nothing interesting after the decimal point.\n",
    "\n",
    "> In addition to Shift-Enter, try Ctrl-Enter and Alt-Enter to see the different behaviors when running cells.\n",
    "\n",
    "Our call to `numpy.loadtxt` read our file,\n",
    "but didn't save the data in memory.\n",
    "To do that,\n",
    "we need to [assign](reference.html#assignment) the array to a [variable](reference.html#variable).\n",
    "A variable is just a name for a value,\n",
    "such as `x`, `current_temperature`, or `subject_id`.\n",
    "Python's variables must begin with a letter and are [case sensitive](reference.html#case-sensitive).\n",
    "We can create a new variable by assigning a value to it using `=`. Just as we can assign a single value to a variable, we can also assign an array of values to a variable using the same syntax. Let's re-run numpy.loadtxt and save its result:\n"
   ]
  },
  {
   "cell_type": "code",
   "execution_count": null,
   "metadata": {},
   "outputs": [],
   "source": [
    "data = numpy.loadtxt(fname='data/inflammation-01.csv', delimiter=',')"
   ]
  },
  {
   "cell_type": "markdown",
   "metadata": {},
   "source": [
    "This statement doesn't produce any output because assignment doesn't display anything.\n",
    "If we want to check that our data has been loaded,\n",
    "we can print the variable's value:"
   ]
  },
  {
   "cell_type": "code",
   "execution_count": null,
   "metadata": {},
   "outputs": [],
   "source": [
    "print(data)"
   ]
  },
  {
   "cell_type": "markdown",
   "metadata": {},
   "source": [
    "Now that our data is in memory,\n",
    "we can start doing things with it.\n",
    "First,\n",
    "let's ask what [type](reference.html#type) of thing `data` refers to:"
   ]
  },
  {
   "cell_type": "code",
   "execution_count": null,
   "metadata": {},
   "outputs": [],
   "source": [
    "print(type(data))"
   ]
  },
  {
   "cell_type": "markdown",
   "metadata": {},
   "source": [
    "The output tells us that `data` currently refers to an N-dimensional array created by the NumPy library. These data correspond to arthritis patients' inflammation. The rows are the individual patients and the columns are their daily inflammation measurements.\n",
    "We can see what its [shape](reference.html#shape) is like this:"
   ]
  },
  {
   "cell_type": "code",
   "execution_count": null,
   "metadata": {},
   "outputs": [],
   "source": [
    "print(data.shape)"
   ]
  },
  {
   "cell_type": "markdown",
   "metadata": {},
   "source": [
    "This tells us that `data` has 60 rows and 40 columns. When we created the\n",
    "variable `data` to store our arthritis data, we didn't just create the array, we also\n",
    "created information about the array, called [members](reference.html#member) or\n",
    "attributes. This extra information describes `data` in\n",
    "the same way an adjective describes a noun.\n",
    "`data.shape` is an attribute  of `data` which described the dimensions of `data`.\n",
    "We use the same dotted notation for the attributes of variables\n",
    "that we use for the functions in libraries\n",
    "because they have the same part-and-whole relationship.\n",
    "\n",
    "If we want to get a single number from the array,\n",
    "we must provide an [index](reference.html#index) in square brackets,\n",
    "just as we do in math:"
   ]
  },
  {
   "cell_type": "code",
   "execution_count": null,
   "metadata": {},
   "outputs": [],
   "source": [
    "print('first value in data:', data[0, 0])"
   ]
  },
  {
   "cell_type": "code",
   "execution_count": null,
   "metadata": {},
   "outputs": [],
   "source": [
    "print('some middle value in data:', data[30, 20])"
   ]
  },
  {
   "cell_type": "markdown",
   "metadata": {},
   "source": [
    "The expression `data[30, 20]` may not surprise you,\n",
    "but `data[0, 0]` might.\n",
    "Programming languages like Fortran and MATLAB and R start counting at 1,\n",
    "because that's what human beings have done for thousands of years.\n",
    "Languages in the C family (including C++, Java, Perl, and Python) count from 0\n",
    "because that's simpler for computers to do.\n",
    "As a result,\n",
    "if we have an M&times;N array in Python,\n",
    "its indices go from 0 to M-1 on the first axis\n",
    "and 0 to N-1 on the second.\n",
    "It takes a bit of getting used to,\n",
    "but one way to remember the rule is that\n",
    "the index is how many steps we have to take from the start to get the item we want.\n",
    "\n",
    "> ## In the Corner\n",
    ">\n",
    "> What may also surprise you is that when Python displays an array,\n",
    "> it shows the element with index `[0, 0]` in the upper left corner\n",
    "> rather than the lower left.\n",
    "> This is consistent with the way mathematicians draw matrices,\n",
    "> but different from the Cartesian coordinates.\n",
    "> The indices are (row, column) instead of (column, row) for the same reason,\n",
    "> which can be confusing when plotting data.\n",
    "\n",
    "An index like `[30, 20]` selects a single element of an array,\n",
    "but we can select whole sections as well.\n",
    "For example,\n",
    "we can select the first ten days (columns) of values\n",
    "for the first four patients (rows) like this:"
   ]
  },
  {
   "cell_type": "code",
   "execution_count": null,
   "metadata": {},
   "outputs": [],
   "source": [
    "print(data[0:4, 0:10])"
   ]
  },
  {
   "cell_type": "markdown",
   "metadata": {},
   "source": [
    "The [slice](reference.html#slice) `0:4` means,\n",
    "\"Start at index 0 and go up to, but not including, index 4.\"\n",
    "Again,\n",
    "the up-to-but-not-including takes a bit of getting used to,\n",
    "but the rule is that the difference between the upper and lower bounds is the number of values in the slice.\n",
    "\n",
    "You can even use negative index values. When you see a negative sign, you start counting from the end of the array (or list).\n",
    "\n",
    "Here's a visual from the Practical Computing for Biologists book to help you with slices."
   ]
  },
  {
   "cell_type": "code",
   "execution_count": null,
   "metadata": {},
   "outputs": [],
   "source": [
    "from IPython.display import Image\n",
    "Image(filename='img/ListIndexingAndSlicing.png') "
   ]
  },
  {
   "cell_type": "markdown",
   "metadata": {},
   "source": [
    "We don't have to start slices at 0:"
   ]
  },
  {
   "cell_type": "code",
   "execution_count": null,
   "metadata": {},
   "outputs": [],
   "source": [
    "print(data[5:10, 0:10])"
   ]
  },
  {
   "cell_type": "markdown",
   "metadata": {},
   "source": [
    "We also don't have to include the upper and lower bound on the slice.\n",
    "If we don't include the lower bound,\n",
    "Python uses 0 by default;\n",
    "if we don't include the upper,\n",
    "the slice runs to the end of the axis,\n",
    "and if we don't include either\n",
    "(i.e., if we just use ':' on its own),\n",
    "the slice includes everything:"
   ]
  },
  {
   "cell_type": "code",
   "execution_count": null,
   "metadata": {},
   "outputs": [],
   "source": [
    "small = data[:3, 36:]\n",
    "print('small is:')\n",
    "print(small)"
   ]
  },
  {
   "cell_type": "markdown",
   "metadata": {},
   "source": [
    "Arrays also know how to perform common mathematical operations on their values.\n",
    "The simplest operations with data are arithmetic:\n",
    "add, subtract, multiply, and divide.\n",
    " When you do such operations on arrays,\n",
    "the operation is done on each individual element of the array.\n",
    "Thus:"
   ]
  },
  {
   "cell_type": "code",
   "execution_count": null,
   "metadata": {},
   "outputs": [],
   "source": [
    "doubledata = data * 2.0"
   ]
  },
  {
   "cell_type": "markdown",
   "metadata": {},
   "source": [
    "will create a new array `doubledata`\n",
    "whose elements have the value of two times the value of the corresponding elements in `data`:"
   ]
  },
  {
   "cell_type": "code",
   "execution_count": null,
   "metadata": {},
   "outputs": [],
   "source": [
    "print('original:')\n",
    "print(data[:3, 36:])\n",
    "print('doubledata:')\n",
    "print(doubledata[:3, 36:])"
   ]
  },
  {
   "cell_type": "markdown",
   "metadata": {},
   "source": [
    "If,\n",
    "instead of taking an array and doing arithmetic with a single value (as above)\n",
    "you did the arithmetic operation with another array of the same shape,\n",
    "the operation will be done on corresponding elements of the two arrays.\n",
    "Thus:"
   ]
  },
  {
   "cell_type": "code",
   "execution_count": null,
   "metadata": {},
   "outputs": [],
   "source": [
    "tripledata = doubledata + data"
   ]
  },
  {
   "cell_type": "markdown",
   "metadata": {},
   "source": [
    "will give you an array where `tripledata[0,0]` will equal `doubledata[0,0]` plus `data[0,0]`,\n",
    "and so on for all other elements of the arrays."
   ]
  },
  {
   "cell_type": "code",
   "execution_count": null,
   "metadata": {},
   "outputs": [],
   "source": [
    "print('tripledata:')\n",
    "print(tripledata[:3, 36:])"
   ]
  },
  {
   "cell_type": "markdown",
   "metadata": {},
   "source": [
    "Often, we want to do more than add, subtract, multiply, and divide values of data.\n",
    "Arrays also know how to do more complex operations on their values.\n",
    "If we want to find the average inflammation for all patients on all days,\n",
    "for example,\n",
    "we can just ask the array for its mean value"
   ]
  },
  {
   "cell_type": "code",
   "execution_count": null,
   "metadata": {},
   "outputs": [],
   "source": [
    "print(data.mean())"
   ]
  },
  {
   "cell_type": "markdown",
   "metadata": {},
   "source": [
    "`mean` is a [method](reference.html#method) of the array,\n",
    "i.e.,\n",
    "a function that belongs to it\n",
    "in the same way that the member `shape` does.\n",
    "If variables are nouns, methods are verbs:\n",
    "they are what the thing in question knows how to do.\n",
    "We need empty parentheses for `data.mean()`,\n",
    "even when we're not passing in any parameters,\n",
    "to tell Python to go and do something for us. `data.shape` doesn't\n",
    "need `()` because it is just a description but `data.mean()` requires the `()`\n",
    "because it is an action.\n",
    "\n",
    "NumPy arrays have lots of useful methods:"
   ]
  },
  {
   "cell_type": "code",
   "execution_count": null,
   "metadata": {},
   "outputs": [],
   "source": [
    "print('maximum inflammation:', data.max())\n",
    "print('minimum inflammation:', data.min())\n",
    "print('standard deviation:', data.std())"
   ]
  },
  {
   "cell_type": "markdown",
   "metadata": {},
   "source": [
    "When analyzing data,\n",
    "though,\n",
    "we often want to look at partial statistics,\n",
    "such as the maximum value per patient\n",
    "or the average value per day.\n",
    "One way to do this is to create a new temporary array of the data we want,\n",
    "then ask it to do the calculation:"
   ]
  },
  {
   "cell_type": "code",
   "execution_count": null,
   "metadata": {},
   "outputs": [],
   "source": [
    "patient_0 = data[0, :] # 0 on the first axis, everything on the second\n",
    "print('maximum inflammation for patient 0:', patient_0.max())"
   ]
  },
  {
   "cell_type": "markdown",
   "metadata": {},
   "source": [
    "We don't actually need to store the row in a variable of its own.\n",
    "Instead, we can combine the selection and the method call:"
   ]
  },
  {
   "cell_type": "code",
   "execution_count": null,
   "metadata": {},
   "outputs": [],
   "source": [
    "print('maximum inflammation for patient 2:', data[2, :].max())"
   ]
  },
  {
   "cell_type": "markdown",
   "metadata": {},
   "source": [
    "What if we need the maximum inflammation for *all* patients (as in the\n",
    "next diagram on the left), or the average for each day (as in the\n",
    "diagram on the right)? As the diagram below shows, we want to perform the\n",
    "operation across an axis.\n",
    "\n",
    "* Axis 0 is the rows\n",
    "* Axis 1 is the columns\n",
    "* If you want the average of a row, you are averaging **across the columns** or across axis 1.\n",
    "* If you want the average of a column, you are averaging **across the rows** or across axis 0.\n",
    "\n",
    "<img src=\"fig/python-operations-across-axes.svg\" alt=\"Operations Across Axes\" />\n",
    "\n",
    "To support this,\n",
    "most array methods allow us to specify the axis we want to work on.\n",
    "If we ask for the average across axis 0 (rows in our 2D example),\n",
    "we get:"
   ]
  },
  {
   "cell_type": "code",
   "execution_count": null,
   "metadata": {},
   "outputs": [],
   "source": [
    "print(data.mean(axis=0)) # Average across the rows - we get one value per column"
   ]
  },
  {
   "cell_type": "markdown",
   "metadata": {},
   "source": [
    "As a quick check,\n",
    "we can ask this array what its shape is:"
   ]
  },
  {
   "cell_type": "code",
   "execution_count": null,
   "metadata": {},
   "outputs": [],
   "source": [
    "print(data.mean(axis=0).shape) # This vector should be 40 x 1 since there are 40 columns."
   ]
  },
  {
   "cell_type": "markdown",
   "metadata": {},
   "source": [
    "The expression `(40,)` tells us we have an N&times;1 vector,\n",
    "so this is the average inflammation per day for all patients.\n",
    "If we average across axis 1 (columns in our 2D example), we get:"
   ]
  },
  {
   "cell_type": "code",
   "execution_count": null,
   "metadata": {},
   "outputs": [],
   "source": [
    "print(data.mean(axis=1))\n",
    "print(data.mean(axis=1).shape)"
   ]
  },
  {
   "cell_type": "markdown",
   "metadata": {},
   "source": [
    "which is the average inflammation per patient across all days."
   ]
  },
  {
   "cell_type": "markdown",
   "metadata": {},
   "source": [
    "## Plotting\n",
    "\n",
    "The mathematician Richard Hamming once said,\n",
    "\"The purpose of computing is insight, not numbers,\"\n",
    "and the best way to develop insight is often to visualize data.\n",
    "Visualization deserves an course of its own,\n",
    "but we can explore a few features of Python's `matplotlib` library here.\n",
    "While there is no \"official\" plotting library,\n",
    "this package is the de facto standard.\n",
    "First,\n",
    "we will import the `pyplot` module from `matplotlib`\n",
    "and use two of its functions to create and display a heat map of our data:\n"
   ]
  },
  {
   "cell_type": "markdown",
   "metadata": {},
   "source": [
    "> ## Some magic\n",
    ">\n",
    "> **IMPORTANT** If you're using an IPython / Jupyter notebook,\n",
    "> you'll need to execute the following command\n",
    "> in order for your matplotlib images to appear\n",
    "> in the notebook when `show()` is called:\n",
    ">\n"
   ]
  },
  {
   "cell_type": "code",
   "execution_count": null,
   "metadata": {},
   "outputs": [],
   "source": [
    "%matplotlib inline"
   ]
  },
  {
   "cell_type": "markdown",
   "metadata": {},
   "source": [
    "> The `%` indicates an IPython/Jupyter magic function -\n",
    "> a function that is only valid within the notebook environment.\n",
    "> Note that you only have to execute this function once per notebook.\n",
    "\n",
    "> If you forget to do this, your plots not appear in the notebook but should appear\n",
    "> in a separate popup plot window. However, I've often seen notebook crashes too."
   ]
  },
  {
   "cell_type": "code",
   "execution_count": null,
   "metadata": {},
   "outputs": [],
   "source": [
    "import matplotlib.pyplot as plt # Import matplotlib library for interactive plotting. The 'as plt' is an alias.\n",
    "image  = plt.imshow(data)\n",
    "plt.show()"
   ]
  },
  {
   "cell_type": "markdown",
   "metadata": {},
   "source": [
    "Blue regions in this heat map are low values, while yellow shows high values.\n",
    "As we can see,\n",
    "inflammation rises and falls over a 40-day period.\n",
    "\n",
    "Let's take a look at the average inflammation over time:"
   ]
  },
  {
   "cell_type": "code",
   "execution_count": null,
   "metadata": {},
   "outputs": [],
   "source": [
    "ave_inflammation = data.mean(axis=0)\n",
    "ave_plot = plt.plot(ave_inflammation)\n",
    "plt.show()"
   ]
  },
  {
   "cell_type": "markdown",
   "metadata": {},
   "source": [
    "Here,\n",
    "we have put the average per day across all patients in the variable `ave_inflammation`,\n",
    "then asked `matplotlib.pyplot` to create and display a line graph of those values.\n",
    "The result is roughly a linear rise and fall,\n",
    "which is suspicious:\n",
    "based on other studies,\n",
    "we expect a sharper rise and slower fall.\n",
    "Let's have a look at two other statistics:"
   ]
  },
  {
   "cell_type": "code",
   "execution_count": null,
   "metadata": {},
   "outputs": [],
   "source": [
    "max_plot = plt.plot(data.max(axis=0))\n",
    "plt.show()"
   ]
  },
  {
   "cell_type": "code",
   "execution_count": null,
   "metadata": {},
   "outputs": [],
   "source": [
    "min_plot = plt.plot(data.min(axis=0))\n",
    "plt.show()"
   ]
  },
  {
   "cell_type": "markdown",
   "metadata": {},
   "source": [
    "\n",
    "The maximum value rises and falls perfectly smoothly,\n",
    "while the minimum seems to be a step function.\n",
    "Neither result seems particularly likely,\n",
    "so either there's a mistake in our calculations\n",
    "or something is wrong with our data.\n",
    "\n",
    "You can group similar plots in a single figure using subplots.\n",
    "This script below uses a number of new commands. \n",
    "\n",
    "* The function `plt.figure()`\n",
    "creates a space into which we will place all of our plots. \n",
    "* The parameter `figsize`\n",
    "tells Python how big to make this space. \n",
    "* Each subplot is placed into the figure using\n",
    "its `add_subplot` method. The `add_subplot` method takes 3 parameters. The first denotes\n",
    "how many total rows of subplots there are, the second parameter refers to the\n",
    "total number of subplot columns, and the final parameters denotes which subplot\n",
    "your variable is referencing (left-to-right, top-to-bottom). \n",
    "* Each subplot is stored in a\n",
    "different variable (`axes1`, `axes2`, `axes3`). \n",
    "* Once a subplot is created, the axes can\n",
    "be titled using the `set_xlabel()` command (or `set_ylabel()`).\n",
    "\n",
    "### Library aliases\n",
    "\n",
    "It's very common to create an alias for a library when importing it\n",
    "in order to reduce the amount of typing we have to do. You'll see the following aliases\n",
    "for numpy and matplotlib almost anytime they are used.\n",
    "Here are our three plots side by side using aliases for `numpy` and `pyplot`:"
   ]
  },
  {
   "cell_type": "code",
   "execution_count": null,
   "metadata": {},
   "outputs": [],
   "source": [
    "# Load libraries\n",
    "import numpy as np\n",
    "import matplotlib.pyplot as plt\n",
    "\n",
    "# Read data from csv to a numpy array\n",
    "data = np.loadtxt(fname='data/inflammation-01.csv', delimiter=',')\n",
    "\n",
    "# Create a container for a matplot lib figure that is 10' x 3'\n",
    "fig = plt.figure(figsize=(10.0, 3.0))\n",
    "\n",
    "# Create 3 subplots\n",
    "axes1 = fig.add_subplot(1, 3, 1) # 1 row x 3 cols, plot 1\n",
    "axes2 = fig.add_subplot(1, 3, 2) # 1 row x 3 cols, plot 2\n",
    "axes3 = fig.add_subplot(1, 3, 3) # 1 row x 3 cols, plot 3\n",
    "\n",
    "# Plots means (across patients) for each time period in subplot 1\n",
    "axes1.set_ylabel('average')\n",
    "axes1.plot(data.mean(axis=0))\n",
    "\n",
    "# Plots maximums (across patients) for each time period in subplot 2\n",
    "axes2.set_ylabel('max')\n",
    "axes2.plot(data.max(axis=0))\n",
    "\n",
    "# Plots minimums (across patients) for each time period in subplot 3\n",
    "axes3.set_ylabel('min')\n",
    "axes3.plot(data.min(axis=0))\n",
    "\n",
    "# Set a layout property for the figure\n",
    "fig.tight_layout()\n",
    "\n",
    "# Actually show the plot\n",
    "plt.show()"
   ]
  },
  {
   "cell_type": "markdown",
   "metadata": {},
   "source": [
    "The [call](reference.html#function-call) to `loadtxt` reads our data,\n",
    "and the rest of the program tells the plotting library\n",
    "how large we want the figure to be,\n",
    "that we're creating three subplots,\n",
    "what to draw for each one,\n",
    "and that we want a tight layout.\n",
    "(Strangely,\n",
    "if we leave out that call to `fig.tight_layout()`,\n",
    "the graphs will actually be squeezed together more closely.)\n"
   ]
  },
  {
   "cell_type": "markdown",
   "metadata": {},
   "source": [
    "#### Key Points\n",
    "\n",
    "*   Import a library into a program using `import libraryname`.\n",
    "*   Use the `numpy` library to work with arrays in Python.\n",
    "*   Use `variable = value` to assign a value to a variable in order to record it in memory.\n",
    "*   Variables are created on demand whenever a value is assigned to them.\n",
    "*   Use `print something` to display the value of `something`.\n",
    "*   The expression `array.shape` gives the shape of an array.\n",
    "*   Use `array[x, y]` to select a single element from an array.\n",
    "*   Array indices start at 0, not 1.\n",
    "*   Use `low:high` to specify a slice that includes the indices from `low` to `high-1`.\n",
    "*   All the indexing and slicing that works on arrays also works on strings.\n",
    "*   Use `# some kind of explanation` to add comments to programs.\n",
    "*   Use `array.mean()`, `array.max()`, and `array.min()` to calculate simple statistics.\n",
    "*   Use `array.mean(axis=0)` or `array.mean(axis=1)` to calculate statistics across the specified axis.\n",
    "*   Use the `pyplot` library from `matplotlib` for creating simple visualizations."
   ]
  },
  {
   "cell_type": "markdown",
   "metadata": {},
   "source": [
    "### Challenge: Sorting out references\n",
    "\n",
    "What does the following program print out?\n",
    "\n",
    "~~~\n",
    "first, second = 'Grace', 'Hopper'\n",
    "third, fourth = second, first\n",
    "print(third, fourth)\n",
    "~~~\n"
   ]
  },
  {
   "cell_type": "markdown",
   "metadata": {},
   "source": [
    "### Challenge: Slicing strings\n",
    "\n",
    "A section of an array is called a [slice](reference.html#slice).\n",
    "We can take slices of character strings as well:\n"
   ]
  },
  {
   "cell_type": "code",
   "execution_count": null,
   "metadata": {},
   "outputs": [],
   "source": [
    "element = 'oxygen'\n",
    "print('first three characters:', element[0:3])\n",
    "print('last three characters:', element[3:6])"
   ]
  },
  {
   "cell_type": "markdown",
   "metadata": {},
   "source": [
    "What is the value of `element[:4]`?\n",
    "What about `element[4:]`?\n",
    "Or `element[:]`?\n",
    "\n",
    "What is `element[-1]`?\n",
    "What is `element[-2]`?\n",
    "Given those answers,\n",
    "explain what `element[1:-1]` does."
   ]
  },
  {
   "cell_type": "code",
   "execution_count": null,
   "metadata": {},
   "outputs": [],
   "source": [
    "# Try it out yourself\n"
   ]
  },
  {
   "cell_type": "markdown",
   "metadata": {},
   "source": [
    "### Challenge: Thin slices\n",
    "\n",
    "The expression `element[3:3]` produces an [empty string](reference.html#empty-string),\n",
    "i.e., a string that contains no characters.\n",
    "If `data` holds our array of patient data,\n",
    "what does `data[3:3, 4:4]` produce?\n",
    "What about `data[3:3, :]`?"
   ]
  },
  {
   "cell_type": "code",
   "execution_count": null,
   "metadata": {},
   "outputs": [],
   "source": []
  },
  {
   "cell_type": "markdown",
   "metadata": {},
   "source": [
    "### Challenge: plot scaling\n",
    "\n",
    "Why do all of our plots stop just short of the upper end of our graph?"
   ]
  },
  {
   "cell_type": "markdown",
   "metadata": {},
   "source": [
    "### Challenge: drawing straight lines\n",
    "Why are the vertical lines in our plot of the minimum inflammation per day not perfectly vertical?"
   ]
  },
  {
   "cell_type": "markdown",
   "metadata": {},
   "source": [
    "### Challenge: Make your own plot\n",
    "\n",
    "Create a plot showing the standard deviation (`numpy.std`) of the inflammation data for each day across all patients.\n"
   ]
  },
  {
   "cell_type": "markdown",
   "metadata": {},
   "source": [
    "### Challenge: Moving plots around\n",
    "\n",
    "Modify the program to display the three plots on top of one another instead of side by side."
   ]
  }
 ],
 "metadata": {
  "anaconda-cloud": {},
  "kernelspec": {
   "display_name": "Python 3",
   "language": "python",
   "name": "python3"
  },
  "language_info": {
   "codemirror_mode": {
    "name": "ipython",
    "version": 3
   },
   "file_extension": ".py",
   "mimetype": "text/x-python",
   "name": "python",
   "nbconvert_exporter": "python",
   "pygments_lexer": "ipython3",
   "version": "3.7.4"
  }
 },
 "nbformat": 4,
 "nbformat_minor": 4
}
