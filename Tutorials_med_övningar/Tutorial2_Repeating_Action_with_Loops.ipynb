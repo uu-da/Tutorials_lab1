{
 "cells": [
  {
   "cell_type": "markdown",
   "metadata": {},
   "source": [
    "# Tutorial 2 - Repeating Actions with Loops\n",
    "\n",
    "## Sources\n",
    "\n",
    "All tutorials in this folder are adapted from Software Carpentry - Programming with Python (v5), licensed under [CC Zero public domain waiver](https://creativecommons.org/publicdomain/zero/1.0/)  Some instructions have been removed and other added in order to make it fit with the course Data Analytics given at Uppsala university, campus Gotland.\n",
    "\n",
    "## Introduction\n",
    "\n",
    "In basic_dataanalytics_tutorial we wrote some code that plots some values of interest from our first inflammation dataset,\n",
    "and reveals some suspicious features in it, such as from `inflammation-01.csv`\n",
    "\n",
    "![Analysis of inflammation-01.csv](fig/03-loop_2_0.png)\n",
    "\n",
    "Now we want to learn how to create plots for different data sets with a single statement.\n",
    "\n",
    "An example task that we might want to repeat is printing each character in a word on a line of its own. \n",
    "One way to do this would be to use a series of `print` statements:\n",
    "\n",
    "\n",
    "\n",
    "\n",
    "\n"
   ]
  },
  {
   "cell_type": "code",
   "execution_count": null,
   "metadata": {},
   "outputs": [],
   "source": [
    "word = 'lead'\n",
    "print(word[0])\n",
    "print(word[1])\n",
    "print(word[2])\n",
    "print(word[3])\n"
   ]
  },
  {
   "cell_type": "markdown",
   "metadata": {},
   "source": [
    "This is a bad approach for two reasons:\n",
    "\n",
    "1.  It doesn't scale:\n",
    "    if we want to print the characters in a string that's hundreds of letters long,\n",
    "    we'd be better off just typing them in.\n",
    "\n",
    "1.  It's fragile:\n",
    "    if we give it a longer string,\n",
    "    it only prints part of the data,\n",
    "    and if we give it a shorter one,\n",
    "    it produces an error because we're asking for characters that don't exist."
   ]
  },
  {
   "cell_type": "code",
   "execution_count": null,
   "metadata": {},
   "outputs": [],
   "source": [
    "word = 'tin'\n",
    "print(word[0])\n",
    "print(word[1])\n",
    "print(word[2])\n",
    "print(word[3])\n"
   ]
  },
  {
   "cell_type": "markdown",
   "metadata": {},
   "source": [
    "Here's a better approach:"
   ]
  },
  {
   "cell_type": "code",
   "execution_count": null,
   "metadata": {},
   "outputs": [],
   "source": [
    "word = 'lead'\n",
    "for char in word:\n",
    "    print(char)\n"
   ]
  },
  {
   "cell_type": "markdown",
   "metadata": {},
   "source": [
    "This is shorter---certainly shorter than something that prints every character in a hundred-letter string---and\n",
    "more robust as well:"
   ]
  },
  {
   "cell_type": "code",
   "execution_count": null,
   "metadata": {},
   "outputs": [],
   "source": [
    "word = 'oxygen'\n",
    "for char in word:\n",
    "    print(char)"
   ]
  },
  {
   "cell_type": "markdown",
   "metadata": {},
   "source": [
    "The improved version uses a [for loop](reference.html#for-loop)\n",
    "to repeat an operation---in this case, printing---once for each thing in a collection.\n",
    "The general form of a loop is:\n",
    "\n",
    "~~~\n",
    "for variable in collection:\n",
    "    do things with variable\n",
    "    \n",
    "~~~"
   ]
  },
  {
   "cell_type": "markdown",
   "metadata": {},
   "source": [
    "* We can call the [loop variable](reference.html#loop-variable) anything we like,\n",
    "but there must be a colon at the end of the line starting the loop.\n",
    "* We must **indent** anything we want to run inside the loop. Unlike many other languages, there is no\n",
    "command to signify the end of the loop body (e.g. end for); what is indented after the for statement belongs to the loop. \n",
    "* The standard convention is to indent 4 **spaces**. Do NOT use tab characters. Most Python editors will remap the tab key so that it does 4 spaces instead of a tab character. \n",
    "\n",
    "This whole notion of using whitespace (indenting) to define block structure in a program takes a little getting used to. Some programmers bristle at being forced to structure their code this way. On the other hand, it naturally leads to quite clean and readable code. For example there are no \"squiggly brackets\" to define the start and end of loops as you'd find in languages like C, C++ and Java. Yes, you need to be careful about indenting the proper number of spaces but it really does become second nature.\n",
    "\n",
    "Here's another loop that repeatedly updates a variable. Notice that we also introduce:\n",
    "\n",
    "* the `if` statement to show how to do simple conditional branching.\n",
    "* newer style string formatting. See https://realpython.com/python-string-formatting/ for nice summary.\n",
    "* in-place operators\n",
    "\n",
    "Python (and most other languages in the C family) provides [in-place operators](reference.html#in-place-operators)\n",
    "that work like this:"
   ]
  },
  {
   "cell_type": "code",
   "execution_count": null,
   "metadata": {},
   "outputs": [],
   "source": [
    "x = 1  # original value\n",
    "x += 1 # add one to x, assigning result back to x. Same as x = x + 1\n",
    "x *= 3 # multiply x by 3. Same as x = x * 3\n",
    "print(x)"
   ]
  },
  {
   "cell_type": "markdown",
   "metadata": {},
   "source": [
    "Ok, here's our loop that counts different types of letters in a string."
   ]
  },
  {
   "cell_type": "code",
   "execution_count": null,
   "metadata": {},
   "outputs": [],
   "source": [
    "# Initialize counters\n",
    "num_vowels = 0\n",
    "num_nonvowels = 0\n",
    "num_chars = 0\n",
    "\n",
    "target_string = 'Some interesting words'\n",
    "\n",
    "for letter in target_string:\n",
    "    num_chars += 1\n",
    "\n",
    "    if letter in 'aeiou':\n",
    "        num_vowels += 1\n",
    "    else:\n",
    "        num_nonvowels += 1\n",
    "\n",
    "# This is the newer way of doing formatted printing. The {} are placeholders and can\n",
    "# contain format strings.\n",
    "print('There are {} total characters - {} vowels and {} non-vowels.'.format(num_chars, num_vowels, num_nonvowels))"
   ]
  },
  {
   "cell_type": "markdown",
   "metadata": {},
   "source": [
    "Note that a loop variable is just a variable that's being used to record progress in a loop.\n",
    "It still exists after the loop is over,\n",
    "and we can re-use variables previously defined as loop variables as well:"
   ]
  },
  {
   "cell_type": "code",
   "execution_count": null,
   "metadata": {},
   "outputs": [],
   "source": [
    "letter = 'z'\n",
    "for letter in 'abc':\n",
    "    print(letter)\n",
    "print('after the loop, letter is {}'.format(letter))"
   ]
  },
  {
   "cell_type": "markdown",
   "metadata": {},
   "source": [
    "Note also that finding the length of a string is such a common operation\n",
    "that Python has a built-in function to do it called `len`:"
   ]
  },
  {
   "cell_type": "code",
   "execution_count": null,
   "metadata": {},
   "outputs": [],
   "source": [
    "print(len('aeiou'))"
   ]
  },
  {
   "cell_type": "markdown",
   "metadata": {},
   "source": [
    "`len` is much faster than any function we could write ourselves,\n",
    "and much easier to read than a two-line loop;\n",
    "it will also give us the length of many other things that we haven't met yet,\n",
    "so we should always use it when we can."
   ]
  },
  {
   "cell_type": "markdown",
   "metadata": {},
   "source": [
    "## Challenge 1: From 1 to N \n",
    "Python has a built-in function called `range` that creates a sequence of numbers. Range can\n",
    " accept 1-3 parameters. If one parameter is input, range creates an array of that length,\n",
    " starting at zero and incrementing by 1. If 2 parameters are input, range starts at\n",
    " the first and ends just before the second, incrementing by one. If range is passed 3 parameters,\n",
    " it starts at the first one, ends just before the second one, and increments by the third one. For\n",
    " example,\n",
    " `range(3)` produces the numbers 0, 1, 2, while `range(2, 5)` produces 2, 3, 4,\n",
    " and `range(3, 10, 3)` produces 3, 6, 9.\n",
    " Using `range`,\n",
    " write a loop that uses `range` to print the first 3 natural numbers:\n",
    "\n",
    " ~~~ {.python}\n",
    " 1\n",
    " 2\n",
    " 3\n",
    " ~~~"
   ]
  },
  {
   "cell_type": "code",
   "execution_count": 1,
   "metadata": {},
   "outputs": [
    {
     "name": "stdout",
     "output_type": "stream",
     "text": [
      "1\n",
      "2\n",
      "3\n"
     ]
    }
   ],
   "source": [
    "#challenge 1\n",
    "for i in range(3):\n",
    "    print(i + 1)"
   ]
  },
  {
   "cell_type": "markdown",
   "metadata": {},
   "source": [
    "## Challenge 2: Computing powers with loops\n",
    "\n",
    "Exponentiation is built into Python:\n",
    "\n",
    " ~~~ {.python}\n",
    " print(5 ** 3)\n",
    " ~~~\n",
    " ~~~ {.output}\n",
    " 125\n",
    " ~~~\n",
    "\n",
    "Write a loop that calculates the same result as `5 ** 3` using multiplication (and without exponentiation)."
   ]
  },
  {
   "cell_type": "code",
   "execution_count": 3,
   "metadata": {},
   "outputs": [
    {
     "name": "stdout",
     "output_type": "stream",
     "text": [
      "125\n"
     ]
    }
   ],
   "source": [
    "#challenge 2\n",
    "x = 5\n",
    "exponent = 3\n",
    "product = 1\n",
    "\n",
    "for i in range(exponent):\n",
    "    # product = product * x\n",
    "    product *= x\n",
    "    \n",
    "print(product)"
   ]
  },
  {
   "cell_type": "markdown",
   "metadata": {},
   "source": [
    "## Challenge 3: Reverse a string\n",
    "\n",
    "Write a loop that takes a string,and produces a new string with the characters in reverse order, so `'Newton'` becomes `'notweN'`. The `len()` function might be useful.\n",
    "\n",
    "**Please note!** There are much more compact ways to do things like reversing\n",
    "a string, put we won't go into that at this time."
   ]
  },
  {
   "cell_type": "code",
   "execution_count": 4,
   "metadata": {},
   "outputs": [
    {
     "name": "stdout",
     "output_type": "stream",
     "text": [
      "n\n",
      "no\n",
      "not\n",
      "notw\n",
      "notwe\n",
      "notweN\n",
      "notweN\n"
     ]
    }
   ],
   "source": [
    "#challenge3\n",
    "s = 'Newton'\n",
    "s_rev = ''\n",
    "for i in range(len(s)):\n",
    "    s_rev += s[len(s)-i-1]\n",
    "    # Print out intermediate results to check our logic\n",
    "    print(s_rev)\n",
    "\n",
    "print(s_rev)"
   ]
  },
  {
   "cell_type": "code",
   "execution_count": null,
   "metadata": {},
   "outputs": [],
   "source": []
  }
 ],
 "metadata": {
  "anaconda-cloud": {},
  "kernelspec": {
   "display_name": "Python 3",
   "language": "python",
   "name": "python3"
  },
  "language_info": {
   "codemirror_mode": {
    "name": "ipython",
    "version": 3
   },
   "file_extension": ".py",
   "mimetype": "text/x-python",
   "name": "python",
   "nbconvert_exporter": "python",
   "pygments_lexer": "ipython3",
   "version": "3.7.4"
  }
 },
 "nbformat": 4,
 "nbformat_minor": 4
}
