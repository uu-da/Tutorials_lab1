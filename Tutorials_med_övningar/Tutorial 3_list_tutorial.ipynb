{
 "cells": [
  {
   "cell_type": "markdown",
   "metadata": {},
   "source": [
    "# Tutorial 3: Storing multiple values in lists\n",
    "\n",
    "## Sources\n",
    "\n",
    "All tutorials in this folder are adapted from Software Carpentry - Programming with Python (v5), licensed under [CC Zero public domain waiver](https://creativecommons.org/publicdomain/zero/1.0/)  Some instructions have been removed and other added in order to make it fit with the course Data Analytics given at Uppsala university, campus Gotland.\n",
    "\n",
    "## Learning Objectives\n",
    "\n",
    "*   Explain what a list is.\n",
    "*   Create and index lists of simple values.\n",
    "\n",
    "Just as a `for` loop is a way to do operations many times,\n",
    "a list is a way to store many values.\n",
    "Unlike NumPy arrays,\n",
    "lists are built into the language (so we don't have to load a library\n",
    "to use them).\n",
    "We create a list by putting values inside **square brackets**:"
   ]
  },
  {
   "cell_type": "code",
   "execution_count": null,
   "metadata": {},
   "outputs": [],
   "source": [
    "odds = [1, 3, 5, 7]\n",
    "print('odds are:', odds)"
   ]
  },
  {
   "cell_type": "markdown",
   "metadata": {},
   "source": [
    "We select individual elements from lists by indexing them:"
   ]
  },
  {
   "cell_type": "code",
   "execution_count": null,
   "metadata": {},
   "outputs": [],
   "source": [
    "print('first and last:', odds[0], odds[-1])"
   ]
  },
  {
   "cell_type": "markdown",
   "metadata": {},
   "source": [
    "We can use index slicing to get a subset of a list."
   ]
  },
  {
   "cell_type": "code",
   "execution_count": null,
   "metadata": {},
   "outputs": [],
   "source": [
    "print(odds[1:3])\n",
    "print(odds[1:])\n",
    "print(odds[:3])\n",
    "print(odds[:])"
   ]
  },
  {
   "cell_type": "markdown",
   "metadata": {},
   "source": [
    "and if we loop over a list,\n",
    "the loop variable is assigned elements one at a time:"
   ]
  },
  {
   "cell_type": "code",
   "execution_count": null,
   "metadata": {},
   "outputs": [],
   "source": [
    "for number in odds:\n",
    "    print(number)"
   ]
  },
  {
   "cell_type": "markdown",
   "metadata": {},
   "source": [
    "There is one important difference between lists and strings:\n",
    "we can change the values in a list,\n",
    "but we cannot change the characters in a string.\n",
    "For example:"
   ]
  },
  {
   "cell_type": "code",
   "execution_count": null,
   "metadata": {},
   "outputs": [],
   "source": [
    "names = ['Newton', 'Darwing', 'Turing'] # typo in Darwin's name\n",
    "print('names is originally:', names)\n",
    "names[1] = 'Darwin' # correct the name\n",
    "print('final value of names:', names)"
   ]
  },
  {
   "cell_type": "markdown",
   "metadata": {},
   "source": [
    "works, but:"
   ]
  },
  {
   "cell_type": "code",
   "execution_count": null,
   "metadata": {},
   "outputs": [],
   "source": [
    "name = 'Bell'\n",
    "name[0] = 'b'"
   ]
  },
  {
   "cell_type": "markdown",
   "metadata": {},
   "source": [
    "does not.\n",
    "\n",
    "> ## Ch-Ch-Ch-Changes\n",
    ">\n",
    "> Data which can be modified in place is called [mutable](reference.html#mutable),\n",
    "> while data which cannot be modified is called [immutable](reference.html#immutable).\n",
    "> Strings and numbers are immutable. This does not mean that variables with string or number values are constants,\n",
    "> but when we want to change the value of a string or number variable, we can only replace the old value\n",
    "> with a completely new value.\n",
    ">\n",
    "> Lists and arrays, on the other hand, are mutable: we can modify them after they have been created. We can\n",
    "> change individual elements, append new elements, or reorder the whole list.  For some operations, like\n",
    "> sorting, we can choose whether to use a function that modifies the data in place or a function that returns a\n",
    "> modified copy and leaves the original unchanged.\n",
    ">\n",
    "> Be careful when modifying data in place.  If two variables refer to the same list, and you modify the list\n",
    "> value, it will change for both variables! If you want variables with mutable values to be independent, you\n",
    "> must make a copy of the value when you assign it.\n",
    ">\n",
    "> Because of pitfalls like this, code which modifies data in place can be more difficult to understand. However,\n",
    "> it is often far more efficient to modify a large data structure in place than to create a modified copy for\n",
    "> every small change. You should consider both of these aspects when writing your code.\n",
    "\n",
    "\n",
    "> ## Nested Lists\n",
    "> Since lists can contain any Python variable, it can even contain other lists.\n",
    ">\n",
    "> For example, we could represent the products in the shelves of a small grocery shop:\n",
    ">\n",
    "> ~~~ {.python}\n",
    "> x = [['pepper', 'zucchini', 'onion'],\n",
    ">      ['cabbage', 'lettuce', 'garlic'],\n",
    ">      ['apple', 'pear', 'banana']]\n",
    "> ~~~\n",
    ">\n",
    ">\n",
    "> Here is a visual example of how indexing a list of lists `x` works in R, courtesy of Hadley Wickham:\n",
    ">\n",
    "> https://twitter.com/hadleywickham/status/643381054758363136\n",
    ">\n",
    "> Using the previously declared list `x`, these would be the results of the\n",
    "> index operations shown in the image:\n",
    ">\n",
    "> ~~~ {.python}\n",
    "> print([x[0]])\n",
    "> ~~~\n",
    ">\n",
    "> ~~~ {.output}\n",
    "> [['pepper', 'zucchini', 'onion']]\n",
    "> ~~~\n",
    ">\n",
    "> ~~~ {.python}\n",
    "> print(x[0])\n",
    "> ~~~\n",
    ">\n",
    "> ~~~ {.output}\n",
    "> ['pepper', 'zucchini', 'onion']\n",
    "> ~~~\n",
    ">\n",
    "> ~~~ {.python}\n",
    "> print(x[0][0])\n",
    "> ~~~\n",
    ">\n",
    "> ~~~ {.output}\n",
    "> 'pepper'\n",
    "> ~~~\n",
    ">\n",
    "\n",
    "\n",
    "There are many ways to change the contents of lists besides assigning new values to\n",
    "individual elements:"
   ]
  },
  {
   "cell_type": "code",
   "execution_count": null,
   "metadata": {},
   "outputs": [],
   "source": [
    "odds.append(11)\n",
    "print('odds after adding a value:', odds)"
   ]
  },
  {
   "cell_type": "code",
   "execution_count": null,
   "metadata": {},
   "outputs": [],
   "source": [
    "del odds[0]\n",
    "print('odds after removing the first element:', odds)"
   ]
  },
  {
   "cell_type": "code",
   "execution_count": null,
   "metadata": {},
   "outputs": [],
   "source": [
    "odds.reverse()\n",
    "print('odds after reversing:', odds)"
   ]
  },
  {
   "cell_type": "markdown",
   "metadata": {},
   "source": [
    "While modifying in place, it is useful to remember that Python treats lists in a slightly counterintuitive way.\n",
    "\n",
    "If we make a list and (attempt to) copy it then modify in place, we can cause all sorts of trouble:"
   ]
  },
  {
   "cell_type": "code",
   "execution_count": null,
   "metadata": {},
   "outputs": [],
   "source": [
    "odds = [1, 3, 5, 7]\n",
    "primes = odds\n",
    "# The following line uses an in-place operator. See bottom of notebook for more on these.\n",
    "primes += [2]\n",
    "print('primes:', primes)\n",
    "print('odds:', odds)"
   ]
  },
  {
   "cell_type": "code",
   "execution_count": null,
   "metadata": {},
   "outputs": [],
   "source": [
    "# Here's a boolean expression that checks to see if primes and odds are equivalent\n",
    "primes == odds"
   ]
  },
  {
   "cell_type": "markdown",
   "metadata": {},
   "source": [
    "This is because Python stores a list in memory, and then can use multiple names to refer to the same list.\n",
    "If all we want to do is copy a (simple) list, we can use the `list` function, so we do not modify a list we did not mean to:"
   ]
  },
  {
   "cell_type": "code",
   "execution_count": null,
   "metadata": {},
   "outputs": [],
   "source": [
    "odds = [1, 3, 5, 7]\n",
    "primes = list(odds)\n",
    "primes += [2]\n",
    "print('primes:', primes)\n",
    "print('odds:', odds)"
   ]
  },
  {
   "cell_type": "code",
   "execution_count": null,
   "metadata": {},
   "outputs": [],
   "source": [
    "primes == odds"
   ]
  },
  {
   "cell_type": "markdown",
   "metadata": {},
   "source": [
    "### Challenge 1: Turn a string into a list\n",
    "\n",
    "Use a for-loop to convert the string \"hello\" into a list of letters:\n",
    "\n",
    "~~~\n",
    "[\"h\", \"e\", \"l\", \"l\", \"o\"]\n",
    "~~~\n",
    "\n",
    "Hint: You can create an empty list like this:\n",
    "\n",
    "~~~\n",
    "my_list = []\n",
    "~~~"
   ]
  },
  {
   "cell_type": "markdown",
   "metadata": {},
   "source": [
    "### Challenge 2: Tuples and exchanges\n",
    "\n",
    "Explain what the overall effect of this code is:\n",
    "\n",
    "~~~\n",
    "left = 'L'\n",
    "right = 'R'\n",
    "\n",
    "temp = left\n",
    "left = right\n",
    "right = temp\n",
    "~~~\n",
    "\n",
    "Compare it to:\n",
    "\n",
    "~~~\n",
    "left, right = right, left\n",
    "~~~\n",
    "\n",
    "Do they always do the same thing?\n",
    "Which do you find easier to read?"
   ]
  },
  {
   "cell_type": "markdown",
   "metadata": {},
   "source": [
    "In the above challenge we see a comma separated list of values. In Python, this is known as a *tuple*. Tuples are like lists but with a few key differences.\n",
    "\n",
    "* tuples are immutable\n",
    "* on output, tuples are enclosed in parentheses\n",
    "* when creating tuples, the parens are optional"
   ]
  },
  {
   "cell_type": "code",
   "execution_count": null,
   "metadata": {},
   "outputs": [],
   "source": [
    "left = 'L'\n",
    "right = 'R'\n",
    "\n",
    "mytuple = left, right\n",
    "print(mytuple)\n",
    "print(mytuple[0])\n",
    "print(mytuple[1])\n"
   ]
  },
  {
   "cell_type": "markdown",
   "metadata": {},
   "source": [
    "Tuples are a slightly more advanced concept but they definitely have some important uses in Python. If you want to know more now, check out the official Python documentation.\n",
    "\n",
    "https://docs.python.org/3/tutorial/datastructures.html#tuples-and-sequences"
   ]
  },
  {
   "cell_type": "code",
   "execution_count": null,
   "metadata": {},
   "outputs": [],
   "source": []
  }
 ],
 "metadata": {
  "anaconda-cloud": {},
  "kernelspec": {
   "display_name": "Python 3",
   "language": "python",
   "name": "python3"
  },
  "language_info": {
   "codemirror_mode": {
    "name": "ipython",
    "version": 3
   },
   "file_extension": ".py",
   "mimetype": "text/x-python",
   "name": "python",
   "nbconvert_exporter": "python",
   "pygments_lexer": "ipython3",
   "version": "3.7.4"
  }
 },
 "nbformat": 4,
 "nbformat_minor": 4
}
